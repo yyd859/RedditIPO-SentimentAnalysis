{
 "cells": [
  {
   "cell_type": "code",
   "execution_count": 1,
   "id": "61ee84b6-6413-4330-90ad-fd00d889dc66",
   "metadata": {},
   "outputs": [
    {
     "name": "stdout",
     "output_type": "stream",
     "text": [
      "Requirement already satisfied: wordcloud in c:\\users\\kevin\\anaconda3\\lib\\site-packages (1.8.1)\n",
      "Requirement already satisfied: numpy>=1.6.1 in c:\\users\\kevin\\anaconda3\\lib\\site-packages (from wordcloud) (1.19.5)\n",
      "Requirement already satisfied: pillow in c:\\users\\kevin\\anaconda3\\lib\\site-packages (from wordcloud) (8.2.0)\n",
      "Requirement already satisfied: matplotlib in c:\\users\\kevin\\anaconda3\\lib\\site-packages (from wordcloud) (3.3.4)\n",
      "Requirement already satisfied: python-dateutil>=2.1 in c:\\users\\kevin\\anaconda3\\lib\\site-packages (from matplotlib->wordcloud) (2.8.1)\n",
      "Requirement already satisfied: pyparsing!=2.0.4,!=2.1.2,!=2.1.6,>=2.0.3 in c:\\users\\kevin\\anaconda3\\lib\\site-packages (from matplotlib->wordcloud) (2.4.7)\n",
      "Requirement already satisfied: cycler>=0.10 in c:\\users\\kevin\\anaconda3\\lib\\site-packages (from matplotlib->wordcloud) (0.10.0)\n",
      "Requirement already satisfied: kiwisolver>=1.0.1 in c:\\users\\kevin\\anaconda3\\lib\\site-packages (from matplotlib->wordcloud) (1.3.1)\n",
      "Requirement already satisfied: six in c:\\users\\kevin\\anaconda3\\lib\\site-packages (from cycler>=0.10->matplotlib->wordcloud) (1.15.0)\n"
     ]
    }
   ],
   "source": [
    "!pip install wordcloud"
   ]
  },
  {
   "cell_type": "code",
   "execution_count": 2,
   "id": "ba6688c4-ad5b-4b10-8b6c-3c3b75ccd1e6",
   "metadata": {},
   "outputs": [],
   "source": [
    "import matplotlib.pyplot as plt\n",
    "from wordcloud import WordCloud, STOPWORDS\n",
    "import sys, os\n",
    "import pandas as pd\n",
    "import numpy as np"
   ]
  },
  {
   "cell_type": "code",
   "execution_count": 3,
   "id": "0c9d96d6-b227-4fea-a080-8f7d69836f33",
   "metadata": {},
   "outputs": [],
   "source": [
    "datapath = \"C:/Users/kevin/OneDrive/Winter Case Competition/RedditIPO-SentimentAnalysis/Data\"\n",
    "os.chdir(datapath)"
   ]
  },
  {
   "cell_type": "code",
   "execution_count": 4,
   "id": "1e06b1a6-fa33-411a-b12f-cd19653d82f6",
   "metadata": {},
   "outputs": [],
   "source": [
    "#reading text\n",
    "posts = pd.read_csv('posts_rd.csv')\n",
    "comments = pd.read_csv('comments_rd.csv')"
   ]
  },
  {
   "cell_type": "code",
   "execution_count": 5,
   "id": "d1592e4a-f31a-4f5c-b6ef-929fcc109cd3",
   "metadata": {},
   "outputs": [
    {
     "data": {
      "text/html": [
       "<div>\n",
       "<style scoped>\n",
       "    .dataframe tbody tr th:only-of-type {\n",
       "        vertical-align: middle;\n",
       "    }\n",
       "\n",
       "    .dataframe tbody tr th {\n",
       "        vertical-align: top;\n",
       "    }\n",
       "\n",
       "    .dataframe thead th {\n",
       "        text-align: right;\n",
       "    }\n",
       "</style>\n",
       "<table border=\"1\" class=\"dataframe\">\n",
       "  <thead>\n",
       "    <tr style=\"text-align: right;\">\n",
       "      <th></th>\n",
       "      <th>Unnamed: 0</th>\n",
       "      <th>Unnamed: 0.1</th>\n",
       "      <th>Unnamed: 0.1.1</th>\n",
       "      <th>title</th>\n",
       "      <th>score</th>\n",
       "      <th>id</th>\n",
       "      <th>url</th>\n",
       "      <th>comms_num</th>\n",
       "      <th>created</th>\n",
       "      <th>body</th>\n",
       "    </tr>\n",
       "  </thead>\n",
       "  <tbody>\n",
       "    <tr>\n",
       "      <th>0</th>\n",
       "      <td>0</td>\n",
       "      <td>0</td>\n",
       "      <td>0</td>\n",
       "      <td>(12/27) Monday's Pre-Market Stock Movers &amp; News</td>\n",
       "      <td>60</td>\n",
       "      <td>rpn6u5</td>\n",
       "      <td>https://www.reddit.com/r/StockMarket/comments/...</td>\n",
       "      <td>6</td>\n",
       "      <td>1640610502</td>\n",
       "      <td># Good Monday morning traders and investors of...</td>\n",
       "    </tr>\n",
       "    <tr>\n",
       "      <th>1</th>\n",
       "      <td>1</td>\n",
       "      <td>1</td>\n",
       "      <td>1</td>\n",
       "      <td>(12/2) Thursday's Pre-Market Stock Movers &amp; News</td>\n",
       "      <td>43</td>\n",
       "      <td>r77bvt</td>\n",
       "      <td>https://www.reddit.com/r/StockMarket/comments/...</td>\n",
       "      <td>12</td>\n",
       "      <td>1638451256</td>\n",
       "      <td>#Good morning traders and investors of the r/S...</td>\n",
       "    </tr>\n",
       "    <tr>\n",
       "      <th>2</th>\n",
       "      <td>2</td>\n",
       "      <td>2</td>\n",
       "      <td>2</td>\n",
       "      <td>(12/15) Wednesday's Pre-Market Stock Movers &amp; ...</td>\n",
       "      <td>25</td>\n",
       "      <td>rgzir5</td>\n",
       "      <td>https://www.reddit.com/r/StockMarket/comments/...</td>\n",
       "      <td>17</td>\n",
       "      <td>1639576154</td>\n",
       "      <td>#Good morning traders and investors of the r/S...</td>\n",
       "    </tr>\n",
       "    <tr>\n",
       "      <th>3</th>\n",
       "      <td>3</td>\n",
       "      <td>3</td>\n",
       "      <td>3</td>\n",
       "      <td>(12/13) Monday's Pre-Market Stock Movers &amp; News</td>\n",
       "      <td>15</td>\n",
       "      <td>rffrcz</td>\n",
       "      <td>https://www.reddit.com/r/StockMarket/comments/...</td>\n",
       "      <td>18</td>\n",
       "      <td>1639402195</td>\n",
       "      <td># Good Monday morning traders and investors of...</td>\n",
       "    </tr>\n",
       "    <tr>\n",
       "      <th>4</th>\n",
       "      <td>4</td>\n",
       "      <td>4</td>\n",
       "      <td>4</td>\n",
       "      <td>Reddit Files Confidentially for IPO. As of Aug...</td>\n",
       "      <td>15</td>\n",
       "      <td>rhlfnx</td>\n",
       "      <td>https://www.wsj.com/articles/reddit-files-pape...</td>\n",
       "      <td>16</td>\n",
       "      <td>1639639347</td>\n",
       "      <td>NaN</td>\n",
       "    </tr>\n",
       "  </tbody>\n",
       "</table>\n",
       "</div>"
      ],
      "text/plain": [
       "   Unnamed: 0  Unnamed: 0.1  Unnamed: 0.1.1  \\\n",
       "0           0             0               0   \n",
       "1           1             1               1   \n",
       "2           2             2               2   \n",
       "3           3             3               3   \n",
       "4           4             4               4   \n",
       "\n",
       "                                               title  score      id  \\\n",
       "0    (12/27) Monday's Pre-Market Stock Movers & News     60  rpn6u5   \n",
       "1   (12/2) Thursday's Pre-Market Stock Movers & News     43  r77bvt   \n",
       "2  (12/15) Wednesday's Pre-Market Stock Movers & ...     25  rgzir5   \n",
       "3    (12/13) Monday's Pre-Market Stock Movers & News     15  rffrcz   \n",
       "4  Reddit Files Confidentially for IPO. As of Aug...     15  rhlfnx   \n",
       "\n",
       "                                                 url  comms_num     created  \\\n",
       "0  https://www.reddit.com/r/StockMarket/comments/...          6  1640610502   \n",
       "1  https://www.reddit.com/r/StockMarket/comments/...         12  1638451256   \n",
       "2  https://www.reddit.com/r/StockMarket/comments/...         17  1639576154   \n",
       "3  https://www.reddit.com/r/StockMarket/comments/...         18  1639402195   \n",
       "4  https://www.wsj.com/articles/reddit-files-pape...         16  1639639347   \n",
       "\n",
       "                                                body  \n",
       "0  # Good Monday morning traders and investors of...  \n",
       "1  #Good morning traders and investors of the r/S...  \n",
       "2  #Good morning traders and investors of the r/S...  \n",
       "3  # Good Monday morning traders and investors of...  \n",
       "4                                                NaN  "
      ]
     },
     "execution_count": 5,
     "metadata": {},
     "output_type": "execute_result"
    }
   ],
   "source": [
    "posts.head()"
   ]
  },
  {
   "cell_type": "code",
   "execution_count": 6,
   "id": "e9e30a86-fbd8-4f4e-9cf9-ee6ca002a6c3",
   "metadata": {},
   "outputs": [
    {
     "data": {
      "text/html": [
       "<div>\n",
       "<style scoped>\n",
       "    .dataframe tbody tr th:only-of-type {\n",
       "        vertical-align: middle;\n",
       "    }\n",
       "\n",
       "    .dataframe tbody tr th {\n",
       "        vertical-align: top;\n",
       "    }\n",
       "\n",
       "    .dataframe thead th {\n",
       "        text-align: right;\n",
       "    }\n",
       "</style>\n",
       "<table border=\"1\" class=\"dataframe\">\n",
       "  <thead>\n",
       "    <tr style=\"text-align: right;\">\n",
       "      <th></th>\n",
       "      <th>Unnamed: 0</th>\n",
       "      <th>Unnamed: 0.1</th>\n",
       "      <th>Unnamed: 0.1.1</th>\n",
       "      <th>comment_id</th>\n",
       "      <th>comment_parent_id</th>\n",
       "      <th>comment_body</th>\n",
       "      <th>comment_link_id</th>\n",
       "    </tr>\n",
       "  </thead>\n",
       "  <tbody>\n",
       "    <tr>\n",
       "      <th>0</th>\n",
       "      <td>0</td>\n",
       "      <td>0</td>\n",
       "      <td>0</td>\n",
       "      <td>hor72d8</td>\n",
       "      <td>t3_rhlfnx</td>\n",
       "      <td>Deleting all comments and accounts in 3... 2.....</td>\n",
       "      <td>t3_rhlfnx</td>\n",
       "    </tr>\n",
       "    <tr>\n",
       "      <th>1</th>\n",
       "      <td>1</td>\n",
       "      <td>1</td>\n",
       "      <td>1</td>\n",
       "      <td>horfp4g</td>\n",
       "      <td>t3_rhlfnx</td>\n",
       "      <td>Make the first offering to the users bitch</td>\n",
       "      <td>t3_rhlfnx</td>\n",
       "    </tr>\n",
       "    <tr>\n",
       "      <th>2</th>\n",
       "      <td>2</td>\n",
       "      <td>2</td>\n",
       "      <td>2</td>\n",
       "      <td>horc0ki</td>\n",
       "      <td>t1_hor72d8</td>\n",
       "      <td>You joke. But, just another social media site ...</td>\n",
       "      <td>t3_rhlfnx</td>\n",
       "    </tr>\n",
       "    <tr>\n",
       "      <th>3</th>\n",
       "      <td>3</td>\n",
       "      <td>3</td>\n",
       "      <td>3</td>\n",
       "      <td>horebg5</td>\n",
       "      <td>t1_horc0ki</td>\n",
       "      <td>I only joke for now. Once it really happens, I...</td>\n",
       "      <td>t3_rhlfnx</td>\n",
       "    </tr>\n",
       "    <tr>\n",
       "      <th>4</th>\n",
       "      <td>4</td>\n",
       "      <td>4</td>\n",
       "      <td>4</td>\n",
       "      <td>hp8mmwv</td>\n",
       "      <td>t1_horebg5</td>\n",
       "      <td>We already are</td>\n",
       "      <td>t3_rhlfnx</td>\n",
       "    </tr>\n",
       "  </tbody>\n",
       "</table>\n",
       "</div>"
      ],
      "text/plain": [
       "   Unnamed: 0  Unnamed: 0.1  Unnamed: 0.1.1 comment_id comment_parent_id  \\\n",
       "0           0             0               0    hor72d8         t3_rhlfnx   \n",
       "1           1             1               1    horfp4g         t3_rhlfnx   \n",
       "2           2             2               2    horc0ki        t1_hor72d8   \n",
       "3           3             3               3    horebg5        t1_horc0ki   \n",
       "4           4             4               4    hp8mmwv        t1_horebg5   \n",
       "\n",
       "                                        comment_body comment_link_id  \n",
       "0  Deleting all comments and accounts in 3... 2.....       t3_rhlfnx  \n",
       "1         Make the first offering to the users bitch       t3_rhlfnx  \n",
       "2  You joke. But, just another social media site ...       t3_rhlfnx  \n",
       "3  I only joke for now. Once it really happens, I...       t3_rhlfnx  \n",
       "4                                     We already are       t3_rhlfnx  "
      ]
     },
     "execution_count": 6,
     "metadata": {},
     "output_type": "execute_result"
    }
   ],
   "source": [
    "comments.head()"
   ]
  },
  {
   "cell_type": "code",
   "execution_count": 7,
   "id": "f371e7b3-de15-47e6-9bfa-40235df1b1aa",
   "metadata": {},
   "outputs": [],
   "source": [
    "posts_trimm = posts[['title', 'body']]\n",
    "comments_trimm = comments[['comment_body']]"
   ]
  },
  {
   "cell_type": "code",
   "execution_count": 8,
   "id": "8733ffb2-6e9e-47a8-b5b6-e6d4afaba857",
   "metadata": {},
   "outputs": [
    {
     "data": {
      "text/html": [
       "<div>\n",
       "<style scoped>\n",
       "    .dataframe tbody tr th:only-of-type {\n",
       "        vertical-align: middle;\n",
       "    }\n",
       "\n",
       "    .dataframe tbody tr th {\n",
       "        vertical-align: top;\n",
       "    }\n",
       "\n",
       "    .dataframe thead th {\n",
       "        text-align: right;\n",
       "    }\n",
       "</style>\n",
       "<table border=\"1\" class=\"dataframe\">\n",
       "  <thead>\n",
       "    <tr style=\"text-align: right;\">\n",
       "      <th></th>\n",
       "      <th>title</th>\n",
       "      <th>body</th>\n",
       "    </tr>\n",
       "  </thead>\n",
       "  <tbody>\n",
       "    <tr>\n",
       "      <th>0</th>\n",
       "      <td>(12/27) Monday's Pre-Market Stock Movers &amp; News</td>\n",
       "      <td># Good Monday morning traders and investors of...</td>\n",
       "    </tr>\n",
       "    <tr>\n",
       "      <th>1</th>\n",
       "      <td>(12/2) Thursday's Pre-Market Stock Movers &amp; News</td>\n",
       "      <td>#Good morning traders and investors of the r/S...</td>\n",
       "    </tr>\n",
       "    <tr>\n",
       "      <th>2</th>\n",
       "      <td>(12/15) Wednesday's Pre-Market Stock Movers &amp; ...</td>\n",
       "      <td>#Good morning traders and investors of the r/S...</td>\n",
       "    </tr>\n",
       "    <tr>\n",
       "      <th>3</th>\n",
       "      <td>(12/13) Monday's Pre-Market Stock Movers &amp; News</td>\n",
       "      <td># Good Monday morning traders and investors of...</td>\n",
       "    </tr>\n",
       "    <tr>\n",
       "      <th>4</th>\n",
       "      <td>Reddit Files Confidentially for IPO. As of Aug...</td>\n",
       "      <td>NaN</td>\n",
       "    </tr>\n",
       "  </tbody>\n",
       "</table>\n",
       "</div>"
      ],
      "text/plain": [
       "                                               title  \\\n",
       "0    (12/27) Monday's Pre-Market Stock Movers & News   \n",
       "1   (12/2) Thursday's Pre-Market Stock Movers & News   \n",
       "2  (12/15) Wednesday's Pre-Market Stock Movers & ...   \n",
       "3    (12/13) Monday's Pre-Market Stock Movers & News   \n",
       "4  Reddit Files Confidentially for IPO. As of Aug...   \n",
       "\n",
       "                                                body  \n",
       "0  # Good Monday morning traders and investors of...  \n",
       "1  #Good morning traders and investors of the r/S...  \n",
       "2  #Good morning traders and investors of the r/S...  \n",
       "3  # Good Monday morning traders and investors of...  \n",
       "4                                                NaN  "
      ]
     },
     "execution_count": 8,
     "metadata": {},
     "output_type": "execute_result"
    }
   ],
   "source": [
    "posts_trimm.head()"
   ]
  },
  {
   "cell_type": "code",
   "execution_count": 9,
   "id": "09e5d41e-1f0c-4a79-baf8-a2d4e88953ef",
   "metadata": {},
   "outputs": [
    {
     "data": {
      "text/html": [
       "<div>\n",
       "<style scoped>\n",
       "    .dataframe tbody tr th:only-of-type {\n",
       "        vertical-align: middle;\n",
       "    }\n",
       "\n",
       "    .dataframe tbody tr th {\n",
       "        vertical-align: top;\n",
       "    }\n",
       "\n",
       "    .dataframe thead th {\n",
       "        text-align: right;\n",
       "    }\n",
       "</style>\n",
       "<table border=\"1\" class=\"dataframe\">\n",
       "  <thead>\n",
       "    <tr style=\"text-align: right;\">\n",
       "      <th></th>\n",
       "      <th>comment_body</th>\n",
       "    </tr>\n",
       "  </thead>\n",
       "  <tbody>\n",
       "    <tr>\n",
       "      <th>0</th>\n",
       "      <td>Deleting all comments and accounts in 3... 2.....</td>\n",
       "    </tr>\n",
       "    <tr>\n",
       "      <th>1</th>\n",
       "      <td>Make the first offering to the users bitch</td>\n",
       "    </tr>\n",
       "    <tr>\n",
       "      <th>2</th>\n",
       "      <td>You joke. But, just another social media site ...</td>\n",
       "    </tr>\n",
       "    <tr>\n",
       "      <th>3</th>\n",
       "      <td>I only joke for now. Once it really happens, I...</td>\n",
       "    </tr>\n",
       "    <tr>\n",
       "      <th>4</th>\n",
       "      <td>We already are</td>\n",
       "    </tr>\n",
       "  </tbody>\n",
       "</table>\n",
       "</div>"
      ],
      "text/plain": [
       "                                        comment_body\n",
       "0  Deleting all comments and accounts in 3... 2.....\n",
       "1         Make the first offering to the users bitch\n",
       "2  You joke. But, just another social media site ...\n",
       "3  I only joke for now. Once it really happens, I...\n",
       "4                                     We already are"
      ]
     },
     "execution_count": 9,
     "metadata": {},
     "output_type": "execute_result"
    }
   ],
   "source": [
    "comments_trimm.head()"
   ]
  },
  {
   "cell_type": "code",
   "execution_count": null,
   "id": "d2a4503a-cdb4-4829-9314-7b98c4e73e6c",
   "metadata": {},
   "outputs": [],
   "source": []
  },
  {
   "cell_type": "code",
   "execution_count": 10,
   "id": "db800718-bfc7-48fe-8a99-f9ccbb1bfee2",
   "metadata": {},
   "outputs": [],
   "source": [
    "posts_trimm = posts_trimm.to_string()\n",
    "comments_trimm = comments_trimm.to_string()"
   ]
  },
  {
   "cell_type": "code",
   "execution_count": 18,
   "id": "1b6695e3-deb9-4232-aaaa-c6b76f652238",
   "metadata": {},
   "outputs": [],
   "source": [
    "posts_stopwords = list(STOPWORDS) + [\"https\", \"png\", \"imgur\", \"n\", \"CLICK\", \"reddit\", \"ashx\", \"will\", \"CHART\", \n",
    "                                     \"t\", \"ta\", \"st_c\", \"sma_20\", \"sma_50\", \"sma_100\", \"sma_200\", \"smsch_200p\", \"bb_20_2\", \"webp\", \"s\", \"l\", \n",
    "                                    \"stofu_b_14_3_3\", \"macd_b_12_26_9\", \"rsi_b_14\", \"sch_200p\", \"p\", \"d\", \"c\"]\n",
    "comments_stopwords = list(STOPWORDS) + [\"n\", \"nbsp\", \"http\", \"u\", \"s\", \"reddit\", \"will\"]"
   ]
  },
  {
   "cell_type": "code",
   "execution_count": 12,
   "id": "ca914e16-3e74-48b7-a5fb-a5eb2f881785",
   "metadata": {},
   "outputs": [],
   "source": [
    "wc_posts = WordCloud(\n",
    "        background_color = 'white',\n",
    "        stopwords = posts_stopwords,\n",
    "        height = 400,\n",
    "        width = 600)"
   ]
  },
  {
   "cell_type": "code",
   "execution_count": 19,
   "id": "347d34da-e0a4-4fa7-bd75-0aa5524010e6",
   "metadata": {},
   "outputs": [],
   "source": [
    "wc_comments = WordCloud(\n",
    "        background_color = 'white', \n",
    "        stopwords = comments_stopwords, \n",
    "        height = 400, \n",
    "        width = 600)"
   ]
  },
  {
   "cell_type": "code",
   "execution_count": 14,
   "id": "18be5dbe-ca56-45eb-a28d-1a6c1a48a44f",
   "metadata": {},
   "outputs": [
    {
     "data": {
      "text/plain": [
       "<wordcloud.wordcloud.WordCloud at 0x2658b7763a0>"
      ]
     },
     "execution_count": 14,
     "metadata": {},
     "output_type": "execute_result"
    }
   ],
   "source": [
    "wc_posts.generate(posts_trimm)\n"
   ]
  },
  {
   "cell_type": "code",
   "execution_count": 20,
   "id": "d86d94b7-ccd4-4629-a6fc-7524abc25af1",
   "metadata": {},
   "outputs": [
    {
     "data": {
      "text/plain": [
       "<wordcloud.wordcloud.WordCloud at 0x265105baa30>"
      ]
     },
     "execution_count": 20,
     "metadata": {},
     "output_type": "execute_result"
    }
   ],
   "source": [
    "wc_comments.generate(comments_trimm)"
   ]
  },
  {
   "cell_type": "code",
   "execution_count": 16,
   "id": "9f2d3ed4-0a6b-4265-a29a-eb729dc897b4",
   "metadata": {},
   "outputs": [
    {
     "data": {
      "text/plain": [
       "<wordcloud.wordcloud.WordCloud at 0x2658b7763a0>"
      ]
     },
     "execution_count": 16,
     "metadata": {},
     "output_type": "execute_result"
    }
   ],
   "source": [
    "wc_posts.to_file('postwordcloudtry.png')\n"
   ]
  },
  {
   "cell_type": "code",
   "execution_count": 21,
   "id": "058ab404-220c-41dc-8c3c-ccf966cb0ced",
   "metadata": {},
   "outputs": [
    {
     "data": {
      "text/plain": [
       "<wordcloud.wordcloud.WordCloud at 0x265105baa30>"
      ]
     },
     "execution_count": 21,
     "metadata": {},
     "output_type": "execute_result"
    }
   ],
   "source": [
    "wc_comments.to_file('commentwordcloudtry.png')"
   ]
  },
  {
   "cell_type": "code",
   "execution_count": null,
   "id": "447374b8-d9a4-4a1a-bd05-cf80e8865a8f",
   "metadata": {},
   "outputs": [],
   "source": []
  },
  {
   "cell_type": "code",
   "execution_count": null,
   "id": "c827fe33-fcb0-4102-b141-e9ecbb19ca63",
   "metadata": {},
   "outputs": [],
   "source": []
  },
  {
   "cell_type": "code",
   "execution_count": null,
   "id": "5633e8c6-3df7-48e1-a604-9a1b26fc5626",
   "metadata": {},
   "outputs": [],
   "source": []
  }
 ],
 "metadata": {
  "kernelspec": {
   "display_name": "Python 3",
   "language": "python",
   "name": "python3"
  },
  "language_info": {
   "codemirror_mode": {
    "name": "ipython",
    "version": 3
   },
   "file_extension": ".py",
   "mimetype": "text/x-python",
   "name": "python",
   "nbconvert_exporter": "python",
   "pygments_lexer": "ipython3",
   "version": "3.8.8"
  }
 },
 "nbformat": 4,
 "nbformat_minor": 5
}

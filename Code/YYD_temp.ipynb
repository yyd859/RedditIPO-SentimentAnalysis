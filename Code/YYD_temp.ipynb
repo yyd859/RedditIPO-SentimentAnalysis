{
 "cells": [
  {
   "cell_type": "code",
   "execution_count": 11,
   "id": "19275951",
   "metadata": {},
   "outputs": [
    {
     "name": "stdout",
     "output_type": "stream",
     "text": [
      "Requirement already satisfied: scipy in /Users/yyd/opt/anaconda3/lib/python3.8/site-packages (1.6.2)\r\n",
      "Requirement already satisfied: numpy<1.23.0,>=1.16.5 in /Users/yyd/opt/anaconda3/lib/python3.8/site-packages (from scipy) (1.20.1)\r\n"
     ]
    }
   ],
   "source": [
    "!pip install scipy"
   ]
  },
  {
   "cell_type": "code",
   "execution_count": 12,
   "id": "85cabc2c",
   "metadata": {},
   "outputs": [],
   "source": [
    "import matplotlib.pyplot as plt\n",
    "from wordcloud import WordCloud, STOPWORDS\n",
    "import sys, os\n",
    "import pandas as pd\n",
    "import numpy as np\n",
    "import scipy.stats"
   ]
  },
  {
   "cell_type": "code",
   "execution_count": 3,
   "id": "b23f182b",
   "metadata": {},
   "outputs": [],
   "source": [
    "datapath = \"/Users/yyd/Documents/GitHub/RedditIPO-SentimentAnalysis/Data\"\n",
    "os.chdir(datapath)\n"
   ]
  },
  {
   "cell_type": "code",
   "execution_count": 4,
   "id": "29e92ecb",
   "metadata": {},
   "outputs": [],
   "source": [
    "comments_scored = pd.read_csv('comments_rd.csv')\n",
    "comments_neg=comments_scored[comments_scored.comment_score<0]\n",
    "comments_neg_trimm = comments_neg[['comment_body']]\n",
    "comments_neg_trimm = comments_neg_trimm.to_string()"
   ]
  },
  {
   "cell_type": "code",
   "execution_count": 5,
   "id": "b9c5e47b",
   "metadata": {},
   "outputs": [],
   "source": [
    "#czq部分\n",
    "def subcomment_count(df):\n",
    "    a=df.comment_parent_id.str.split(pat=\"_\",n=2,expand=True)\n",
    "    a=a.iloc[:,[1]]\n",
    "    b=a.apply(lambda x : x.groupby(x).count()).fillna(0)\n",
    "    b.index.name = 'comment_id'\n",
    "    b.reset_index(inplace=True)\n",
    "    b.rename(columns={1:'subcomment_count'}, inplace=True)\n",
    "    c=df.merge(b, on='comment_id', how='left')\n",
    "    return c"
   ]
  },
  {
   "cell_type": "code",
   "execution_count": 8,
   "id": "1daec208",
   "metadata": {},
   "outputs": [],
   "source": [
    "comment_score=subcomment_count(comments_scored).comment_score\n",
    "subcomment_count=subcomment_count(comments_scored).subcomment_count"
   ]
  },
  {
   "cell_type": "code",
   "execution_count": 7,
   "id": "72f87e34",
   "metadata": {},
   "outputs": [
    {
     "data": {
      "text/plain": [
       "0         4\n",
       "1         2\n",
       "2         2\n",
       "3         2\n",
       "4         1\n",
       "         ..\n",
       "15277    23\n",
       "15278     9\n",
       "15279     2\n",
       "15280     5\n",
       "15281     3\n",
       "Name: comment_score, Length: 15282, dtype: int64"
      ]
     },
     "execution_count": 7,
     "metadata": {},
     "output_type": "execute_result"
    }
   ],
   "source": [
    "comment_score"
   ]
  },
  {
   "cell_type": "code",
   "execution_count": 15,
   "id": "fed72350",
   "metadata": {},
   "outputs": [
    {
     "data": {
      "text/plain": [
       "((array([-3.91417949, -3.69465167, -3.5743804 , ...,  3.5743804 ,\n",
       "          3.69465167,  3.91417949]),\n",
       "  array([ -59,  -51,  -45, ..., 5509, 6005, 8444])),\n",
       " (49.95650681875691, 22.97480696243946, 0.3083786491779101))"
      ]
     },
     "execution_count": 15,
     "metadata": {},
     "output_type": "execute_result"
    },
    {
     "data": {
      "image/png": "[encoded data removed]",
      "text/plain": [
       "<Figure size 432x288 with 1 Axes>"
      ]
     },
     "metadata": {
      "needs_background": "light"
     },
     "output_type": "display_data"
    }
   ],
   "source": [
    "scipy.stats.probplot(comment_score, dist=\"norm\", plot=plt)"
   ]
  },
  {
   "cell_type": "code",
   "execution_count": 17,
   "id": "da1d7aff",
   "metadata": {},
   "outputs": [
    {
     "data": {
      "text/plain": [
       "count    15282.000000\n",
       "mean        22.974807\n",
       "std        161.963098\n",
       "min        -59.000000\n",
       "25%          1.000000\n",
       "50%          3.000000\n",
       "75%          8.000000\n",
       "max       8444.000000\n",
       "Name: comment_score, dtype: float64"
      ]
     },
     "execution_count": 17,
     "metadata": {},
     "output_type": "execute_result"
    }
   ],
   "source": [
    "comment_score.describe()"
   ]
  },
  {
   "cell_type": "code",
   "execution_count": 18,
   "id": "f96c6584",
   "metadata": {},
   "outputs": [
    {
     "data": {
      "text/plain": [
       "((array([-3.91417949, -3.69465167, -3.5743804 , ...,  3.5743804 ,\n",
       "          3.69465167,  3.91417949]),\n",
       "  array([ 1.,  1.,  1., ..., nan, nan, nan])),\n",
       " (nan, nan, nan))"
      ]
     },
     "execution_count": 18,
     "metadata": {},
     "output_type": "execute_result"
    },
    {
     "data": {
      "image/png": "[encoded data removed]",
      "text/plain": [
       "<Figure size 432x288 with 1 Axes>"
      ]
     },
     "metadata": {
      "needs_background": "light"
     },
     "output_type": "display_data"
    }
   ],
   "source": [
    "scipy.stats.probplot(subcomment_count, dist=\"norm\", plot=plt)"
   ]
  },
  {
   "cell_type": "code",
   "execution_count": 19,
   "id": "b1de2799",
   "metadata": {},
   "outputs": [],
   "source": [
    "comments = pd.read_csv('normalized_sentiment_score.csv')"
   ]
  },
  {
   "cell_type": "code",
   "execution_count": null,
   "id": "0cd3def0",
   "metadata": {},
   "outputs": [],
   "source": []
  }
 ],
 "metadata": {
  "kernelspec": {
   "display_name": "Python 3",
   "language": "python",
   "name": "python3"
  },
  "language_info": {
   "codemirror_mode": {
    "name": "ipython",
    "version": 3
   },
   "file_extension": ".py",
   "mimetype": "text/x-python",
   "name": "python",
   "nbconvert_exporter": "python",
   "pygments_lexer": "ipython3",
   "version": "3.8.8"
  }
 },
 "nbformat": 4,
 "nbformat_minor": 5
}

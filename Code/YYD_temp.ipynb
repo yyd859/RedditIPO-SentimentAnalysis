{
 "cells": [
  {
   "cell_type": "code",
   "execution_count": 84,
   "id": "19275951",
   "metadata": {},
   "outputs": [
    {
     "name": "stdout",
     "output_type": "stream",
     "text": [
      "Requirement already satisfied: scipy in /Users/yyd/opt/anaconda3/lib/python3.8/site-packages (1.6.2)\r\n",
      "Requirement already satisfied: numpy<1.23.0,>=1.16.5 in /Users/yyd/opt/anaconda3/lib/python3.8/site-packages (from scipy) (1.20.1)\r\n"
     ]
    }
   ],
   "source": [
    "!pip install scipy"
   ]
  },
  {
   "cell_type": "code",
   "execution_count": 123,
   "id": "85cabc2c",
   "metadata": {},
   "outputs": [],
   "source": [
    "import matplotlib.pyplot as plt\n",
    "from wordcloud import WordCloud, STOPWORDS\n",
    "import sys, os\n",
    "import pandas as pd\n",
    "import numpy as np\n",
    "import scipy.stats\n",
    "from datetime import datetime "
   ]
  },
  {
   "cell_type": "code",
   "execution_count": 86,
   "id": "b23f182b",
   "metadata": {},
   "outputs": [],
   "source": [
    "datapath = \"/Users/yyd/Documents/GitHub/RedditIPO-SentimentAnalysis/Data\"\n",
    "os.chdir(datapath)\n"
   ]
  },
  {
   "cell_type": "code",
   "execution_count": 4,
   "id": "29e92ecb",
   "metadata": {},
   "outputs": [],
   "source": [
    "comments_scored = pd.read_csv('comments_rd.csv')\n",
    "comments_neg=comments_scored[comments_scored.comment_score<0]\n",
    "comments_neg_trimm = comments_neg[['comment_body']]\n",
    "comments_neg_trimm = comments_neg_trimm.to_string()"
   ]
  },
  {
   "cell_type": "code",
   "execution_count": 102,
   "id": "b9c5e47b",
   "metadata": {},
   "outputs": [],
   "source": [
    "#czq部分\n",
    "def subcomment_count(df):\n",
    "    a=df.comment_parent_id.str.split(pat=\"_\",n=2,expand=True)\n",
    "    a=a.iloc[:,[1]]\n",
    "    b=a.apply(lambda x : x.groupby(x).count()).fillna(0)\n",
    "    b.index.name = 'comment_id'\n",
    "    b.reset_index(inplace=True)\n",
    "    b.rename(columns={1:'subcomment_count'}, inplace=True)\n",
    "    c=df.merge(b, on='comment_id', how='left')\n",
    "    return c"
   ]
  },
  {
   "cell_type": "code",
   "execution_count": 134,
   "id": "1daec208",
   "metadata": {},
   "outputs": [],
   "source": [
    "comment_score=subcomment_count(comments_scored).comment_score\n",
    "subcomment_count=subcomment_count(comments_scored).subcomment_count"
   ]
  },
  {
   "cell_type": "code",
   "execution_count": 135,
   "id": "b1de2799",
   "metadata": {},
   "outputs": [],
   "source": [
    "comments_reddit= pd.read_csv('comments_reddit.csv')\n",
    "comments_GME=pd.read_csv('comments_GME.csv')"
   ]
  },
  {
   "cell_type": "code",
   "execution_count": 119,
   "id": "1be45a31",
   "metadata": {},
   "outputs": [],
   "source": [
    "ts=comments_GME.post_time_stamp"
   ]
  },
  {
   "cell_type": "code",
   "execution_count": 138,
   "id": "e6cb9c09",
   "metadata": {},
   "outputs": [],
   "source": [
    "comments_reddit['comment_time_stamp'] = comments_reddit['comment_time_stamp'].apply(datetime.fromtimestamp)\n",
    "comments_GME['comment_time_stamp']=comments_GME['comment_time_stamp'].apply(datetime.fromtimestamp)\n"
   ]
  },
  {
   "cell_type": "code",
   "execution_count": 141,
   "id": "de866745",
   "metadata": {},
   "outputs": [],
   "source": [
    "comments_GME['post_time_stamp']=comments_GME['post_time_stamp'].apply(datetime.fromtimestamp)"
   ]
  },
  {
   "cell_type": "code",
   "execution_count": 142,
   "id": "928c3ae7",
   "metadata": {},
   "outputs": [],
   "source": [
    "comments_reddit.to_csv(\"comments_reddit_1.csv\")"
   ]
  },
  {
   "cell_type": "code",
   "execution_count": 143,
   "id": "449dd0f2",
   "metadata": {},
   "outputs": [],
   "source": [
    "comments_GME.to_csv(\"comments_GME_1.csv\")"
   ]
  },
  {
   "cell_type": "code",
   "execution_count": null,
   "id": "078a9e52",
   "metadata": {},
   "outputs": [],
   "source": []
  }
 ],
 "metadata": {
  "kernelspec": {
   "display_name": "Python 3",
   "language": "python",
   "name": "python3"
  },
  "language_info": {
   "codemirror_mode": {
    "name": "ipython",
    "version": 3
   },
   "file_extension": ".py",
   "mimetype": "text/x-python",
   "name": "python",
   "nbconvert_exporter": "python",
   "pygments_lexer": "ipython3",
   "version": "3.8.8"
  }
 },
 "nbformat": 4,
 "nbformat_minor": 5
}
